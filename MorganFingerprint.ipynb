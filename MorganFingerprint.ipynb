{
 "cells": [
  {
   "cell_type": "code",
   "execution_count": 48,
   "id": "95c8f9cb",
   "metadata": {},
   "outputs": [],
   "source": [
    "from rdkit.Chem import AllChem\n",
    "from rdkit import Chem\n",
    "from rdkit import DataStructs\n",
    "\n",
    "RADIUS_OF_FINGERPRINT = 2"
   ]
  },
  {
   "cell_type": "code",
   "execution_count": 49,
   "id": "a56e64e6",
   "metadata": {
    "scrolled": false
   },
   "outputs": [],
   "source": [
    "# Read the SMILES strings line by line. \n",
    "\n",
    "#opening a file in read mode. \n",
    "with open('CapsaicinHead.txt', 'r') as my_string_file:\n",
    "    fingerprints = []\n",
    "    for line in my_string_file:\n",
    "        if line[0] == 'C': # we know we have a SMILES string here.\n",
    "            smiles = line.split()[0] #everything before the empty space is the SMILES string. \n",
    "            molecule_from_smiles = Chem.MolFromSmiles(smiles) #create molecule object from smile\n",
    "            fingerprint = AllChem.GetMorganFingerprint(molecule_from_smiles, RADIUS_OF_FINGERPRINT) #create fingerprint from molecule\n",
    "            fingerprints.append(fingerprint)\n",
    "\n",
    "\n",
    "#STRING -> MOLECULE_OBJECT (m1) -> MORGAN FINGERPRINT (fp1)"
   ]
  },
  {
   "cell_type": "code",
   "execution_count": 50,
   "id": "5ded131a",
   "metadata": {},
   "outputs": [
    {
     "name": "stdout",
     "output_type": "stream",
     "text": [
      "145\n",
      "145\n"
     ]
    }
   ],
   "source": [
    "width, height = len(fingerprints), len(fingerprints)\n",
    "DistanceMatrix = [[0 for fingerprint in range(height)] for fingerprint in range(width)] #make 145x145 Matrix\n",
    "print (len(DistanceMatrix)) # num of rows\n",
    "print (len(DistanceMatrix[-1])) # num of cols\n",
    "\n",
    "for i in range(len(fingerprints)):\n",
    "    for j in range(len(fingerprints)):\n",
    "        DistanceMatrix[i][j] = DataStructs.DiceSimilarity(fingerprints[i],fingerprints[j])"
   ]
  },
  {
   "cell_type": "code",
   "execution_count": 56,
   "id": "37b945c3",
   "metadata": {},
   "outputs": [],
   "source": [
    "import numpy as np \n",
    "np_dist_matrix = np.array(DistanceMatrix)\n",
    "np.savetxt(\"distance_matrix.csv\", np_dist_matrix, delimiter=\",\")"
   ]
  },
  {
   "cell_type": "code",
   "execution_count": null,
   "id": "ee2a1c45",
   "metadata": {},
   "outputs": [],
   "source": []
  }
 ],
 "metadata": {
  "kernelspec": {
   "display_name": "Python 3 (ipykernel)",
   "language": "python",
   "name": "python3"
  },
  "language_info": {
   "codemirror_mode": {
    "name": "ipython",
    "version": 3
   },
   "file_extension": ".py",
   "mimetype": "text/x-python",
   "name": "python",
   "nbconvert_exporter": "python",
   "pygments_lexer": "ipython3",
   "version": "3.9.7"
  }
 },
 "nbformat": 4,
 "nbformat_minor": 5
}
